{
 "cells": [
  {
   "cell_type": "code",
   "execution_count": null,
   "metadata": {},
   "outputs": [],
   "source": [
    "#  Importing Modules\n",
    "import pandas as pd\n",
    "import numpy as np\n",
    "from sklearn.model_selection import StratifiedKFold\n",
    "import scipy.stats as stats\n",
    "from sklearn.model_selection import train_test_split\n",
    "from sklearn.linear_model import LogisticRegression, LinearRegression, SGDClassifier\n",
    "from sklearn.metrics import accuracy_score, classification_report, confusion_matrix\n",
    "from sklearn.preprocessing import StandardScaler\n",
    "from sklearn.linear_model import ElasticNetCV\n",
    "import matplotlib.pyplot as plt\n",
    "from sklearn.ensemble import RandomForestClassifier, GradientBoostingClassifier , HistGradientBoostingClassifier\n",
    "from sklearn.tree import DecisionTreeClassifier\n",
    "from sklearn.svm import LinearSVC"
   ]
  },
  {
   "cell_type": "markdown",
   "metadata": {},
   "source": [
    "## Reading Files for analysis "
   ]
  },
  {
   "cell_type": "code",
   "execution_count": null,
   "metadata": {},
   "outputs": [],
   "source": [
    "# train = pd.read_csv('Training LUNG Cancer Dataset.csv', low_memory=True)\n",
    "# melanoma = pd.read_csv('Melanoma Validation Dataset.csv', low_memory=True)\n",
    "# lancent = pd.read_csv('Lancent_dataset_complete.txt', low_memory=True)\n",
    "extra_lung = pd.read_csv"
   ]
  },
  {
   "cell_type": "code",
   "execution_count": null,
   "metadata": {},
   "outputs": [],
   "source": [
    "\n",
    "# Functions for filling empty values \n",
    "def fill_missing_with_mean(row):\n",
    "    return row.fillna(row.mean())\n",
    "\n",
    "# Dataset conversion for validation\n",
    "lancent_test_standarized = scaler.fit_transform(lancent[rf_cpgs].fillna(0))\n",
    "lancent_y = lancent['Labels']\n",
    "melanoma_test_standarized = scaler.fit_transform(melanoma[rf_cpgs].fillna(0))\n",
    "melanoma_y = melanoma['Labels']\n",
    "\n",
    "# Functions for calling matrices \n",
    "def print_metrics(x, y):\n",
    "    print(\"Accuracy:\", accuracy_score(x, y))\n",
    "    print(\"\\nConfusion Matrix:\\n\", confusion_matrix(x, y))\n",
    "    print(\"\\nClassification Report:\\n\", classification_report(x, y))"
   ]
  },
  {
   "cell_type": "markdown",
   "metadata": {},
   "source": [
    "## OverSampling"
   ]
  },
  {
   "cell_type": "code",
   "execution_count": null,
   "metadata": {},
   "outputs": [
    {
     "name": "stdout",
     "output_type": "stream",
     "text": [
      "(60, 866091)\n",
      "(60,)\n",
      "After OverSampling\n",
      "(90, 866091)\n",
      "(90,)\n"
     ]
    }
   ],
   "source": [
    "from sklearn.preprocessing import StandardScaler\n",
    "from imblearn.over_sampling import SMOTE\n",
    "scaler = StandardScaler()\n",
    "\n",
    "\n",
    "cpg_sites = train.drop(['geo_accession', 'Labels'], axis=1)\n",
    "labels = train['Labels']\n",
    "\n",
    "\n",
    "X = scaler.fit_transform(cpg_sites)\n",
    "Y = labels\n",
    "#print(X)\n",
    "print(X.shape)\n",
    "print(Y.shape)\n",
    "print (\"After OverSampling\")\n",
    "oversampling = SMOTE()\n",
    "X,Y = oversampling.fit_resample(X,Y)\n",
    "print(X.shape)\n",
    "print(y.shape)"
   ]
  },
  {
   "cell_type": "markdown",
   "metadata": {},
   "source": [
    "## Feature Selection"
   ]
  },
  {
   "cell_type": "code",
   "execution_count": null,
   "metadata": {},
   "outputs": [
    {
     "data": {
      "text/html": [
       "<style>#sk-container-id-17 {color: black;}#sk-container-id-17 pre{padding: 0;}#sk-container-id-17 div.sk-toggleable {background-color: white;}#sk-container-id-17 label.sk-toggleable__label {cursor: pointer;display: block;width: 100%;margin-bottom: 0;padding: 0.3em;box-sizing: border-box;text-align: center;}#sk-container-id-17 label.sk-toggleable__label-arrow:before {content: \"▸\";float: left;margin-right: 0.25em;color: #696969;}#sk-container-id-17 label.sk-toggleable__label-arrow:hover:before {color: black;}#sk-container-id-17 div.sk-estimator:hover label.sk-toggleable__label-arrow:before {color: black;}#sk-container-id-17 div.sk-toggleable__content {max-height: 0;max-width: 0;overflow: hidden;text-align: left;background-color: #f0f8ff;}#sk-container-id-17 div.sk-toggleable__content pre {margin: 0.2em;color: black;border-radius: 0.25em;background-color: #f0f8ff;}#sk-container-id-17 input.sk-toggleable__control:checked~div.sk-toggleable__content {max-height: 200px;max-width: 100%;overflow: auto;}#sk-container-id-17 input.sk-toggleable__control:checked~label.sk-toggleable__label-arrow:before {content: \"▾\";}#sk-container-id-17 div.sk-estimator input.sk-toggleable__control:checked~label.sk-toggleable__label {background-color: #d4ebff;}#sk-container-id-17 div.sk-label input.sk-toggleable__control:checked~label.sk-toggleable__label {background-color: #d4ebff;}#sk-container-id-17 input.sk-hidden--visually {border: 0;clip: rect(1px 1px 1px 1px);clip: rect(1px, 1px, 1px, 1px);height: 1px;margin: -1px;overflow: hidden;padding: 0;position: absolute;width: 1px;}#sk-container-id-17 div.sk-estimator {font-family: monospace;background-color: #f0f8ff;border: 1px dotted black;border-radius: 0.25em;box-sizing: border-box;margin-bottom: 0.5em;}#sk-container-id-17 div.sk-estimator:hover {background-color: #d4ebff;}#sk-container-id-17 div.sk-parallel-item::after {content: \"\";width: 100%;border-bottom: 1px solid gray;flex-grow: 1;}#sk-container-id-17 div.sk-label:hover label.sk-toggleable__label {background-color: #d4ebff;}#sk-container-id-17 div.sk-serial::before {content: \"\";position: absolute;border-left: 1px solid gray;box-sizing: border-box;top: 0;bottom: 0;left: 50%;z-index: 0;}#sk-container-id-17 div.sk-serial {display: flex;flex-direction: column;align-items: center;background-color: white;padding-right: 0.2em;padding-left: 0.2em;position: relative;}#sk-container-id-17 div.sk-item {position: relative;z-index: 1;}#sk-container-id-17 div.sk-parallel {display: flex;align-items: stretch;justify-content: center;background-color: white;position: relative;}#sk-container-id-17 div.sk-item::before, #sk-container-id-17 div.sk-parallel-item::before {content: \"\";position: absolute;border-left: 1px solid gray;box-sizing: border-box;top: 0;bottom: 0;left: 50%;z-index: -1;}#sk-container-id-17 div.sk-parallel-item {display: flex;flex-direction: column;z-index: 1;position: relative;background-color: white;}#sk-container-id-17 div.sk-parallel-item:first-child::after {align-self: flex-end;width: 50%;}#sk-container-id-17 div.sk-parallel-item:last-child::after {align-self: flex-start;width: 50%;}#sk-container-id-17 div.sk-parallel-item:only-child::after {width: 0;}#sk-container-id-17 div.sk-dashed-wrapped {border: 1px dashed gray;margin: 0 0.4em 0.5em 0.4em;box-sizing: border-box;padding-bottom: 0.4em;background-color: white;}#sk-container-id-17 div.sk-label label {font-family: monospace;font-weight: bold;display: inline-block;line-height: 1.2em;}#sk-container-id-17 div.sk-label-container {text-align: center;}#sk-container-id-17 div.sk-container {/* jupyter's `normalize.less` sets `[hidden] { display: none; }` but bootstrap.min.css set `[hidden] { display: none !important; }` so we also need the `!important` here to be able to override the default hidden behavior on the sphinx rendered scikit-learn.org. See: https://github.com/scikit-learn/scikit-learn/issues/21755 */display: inline-block !important;position: relative;}#sk-container-id-17 div.sk-text-repr-fallback {display: none;}</style><div id=\"sk-container-id-17\" class=\"sk-top-container\"><div class=\"sk-text-repr-fallback\"><pre>RandomForestClassifier()</pre><b>In a Jupyter environment, please rerun this cell to show the HTML representation or trust the notebook. <br />On GitHub, the HTML representation is unable to render, please try loading this page with nbviewer.org.</b></div><div class=\"sk-container\" hidden><div class=\"sk-item\"><div class=\"sk-estimator sk-toggleable\"><input class=\"sk-toggleable__control sk-hidden--visually\" id=\"sk-estimator-id-29\" type=\"checkbox\" checked><label for=\"sk-estimator-id-29\" class=\"sk-toggleable__label sk-toggleable__label-arrow\">RandomForestClassifier</label><div class=\"sk-toggleable__content\"><pre>RandomForestClassifier()</pre></div></div></div></div></div>"
      ],
      "text/plain": [
       "RandomForestClassifier()"
      ]
     },
     "metadata": {},
     "output_type": "display_data"
    }
   ],
   "source": [
    "RF = RandomForestClassifier()\n",
    "RF.fit(X,Y)\n",
    "dfscores = pd.DataFrame(RF.feature_importances_)\n",
    "dfcolumns = pd.DataFrame(cpg_sites.columns)\n",
    "fs = pd.concat([dfcolumns, dfscores], axis=1)\n",
    "fs.columns = ['rfFeature', 'rfScore']\n",
    "rf_cpgs = fs[fs['rfScore'] > 0].sort_values(by='rfScore', ascending=False)['rfFeature'].tolist()"
   ]
  },
  {
   "cell_type": "markdown",
   "metadata": {},
   "source": [
    "## Testing and training data split"
   ]
  },
  {
   "cell_type": "code",
   "execution_count": null,
   "metadata": {},
   "outputs": [],
   "source": [
    "X_train, X_test, y_train, y_test = train_test_split(X_df, Y, test_size=0.2, random_state=42)"
   ]
  },
  {
   "cell_type": "markdown",
   "metadata": {},
   "source": [
    "## Model implementation"
   ]
  },
  {
   "cell_type": "code",
   "execution_count": null,
   "metadata": {},
   "outputs": [],
   "source": [
    "model = RandomForestClassifier(**best_params, random_state=0) #new_model\n",
    "model.fit(X_train.values,y_train)\n",
    "print(\"Train : \" ,model.score(X_test,y_test))\n",
    "print(\"Lancent : \",model.score(lancent_test_standarized,lancent_y))\n",
    "print(\"Melanoma : \" ,model.score(melanoma_test_standarized,melanoma_y))"
   ]
  },
  {
   "cell_type": "markdown",
   "metadata": {},
   "source": [
    "## Iterations over several parameters to select model with best accuracy "
   ]
  },
  {
   "cell_type": "code",
   "execution_count": null,
   "metadata": {},
   "outputs": [],
   "source": [
    "param_grid = {\n",
    "    'n_estimators': [i for i in range(1,30)],\n",
    "    'max_depth': [None,1,2,3,4,5,6,7,8,9],\n",
    "    'min_samples_split': [2,3,4,5,6],\n",
    "    'min_samples_leaf': [ 1,2,3,4,5],\n",
    "    'max_features': [None, 'sqrt', 'log2'],\n",
    "    'n_jobs' : [-1],\n",
    "}\n",
    "params_list = []\n",
    "best_accuracy = 0.0\n",
    "best_params = None\n",
    "import itertools\n",
    "for params in itertools.product(*param_grid.values()):\n",
    "    param_dict = dict(zip(param_grid.keys(), params))\n",
    "\n",
    "    rf_classifier = RandomForestClassifier(random_state=0, **param_dict)\n",
    "    rf_classifier.fit(X_train.values, y_train)\n",
    "\n",
    "    y_val_pred = rf_classifier.predict(melanoma_test_standarized)\n",
    "    val_accuracy = accuracy_score(melanoma_y, y_val_pred)\n",
    "    \n",
    "    val2_pred = rf_classifier.predict(lancent_test_standarized)\n",
    "    val2_accuracy = accuracy_score(lancent_y, val2_pred)\n",
    "    data_dict = {}\n",
    "    data_dict['Lancent'] = val2_accuracy\n",
    "    data_dict['Melanoma'] = val_accuracy\n",
    "    data_dict['Params'] = param_dict\n",
    "    params_list.append(data_dict)\n",
    "    pd.DataFrame(params_list).to_csv('RF Lancent Model Params.txt', index=False)\n",
    "    # val_accuracy = (val_accuracy + val2_accuracy) / 2\n",
    "    if val_accuracy >= 0.7 and val2_accuracy >= 0.7:\n",
    "        best_accuracy = val_accuracy\n",
    "        best_params = param_dict"
   ]
  },
  {
   "cell_type": "code",
   "execution_count": null,
   "metadata": {},
   "outputs": [],
   "source": [
    "# fs[fs['rfScore'] > 0].sort_values(by='rfScore', ascending=False).to_csv('RANDOM FOREST OVERSAMPLED CPGs.csv')\n",
    "# rf_df = fs[fs['rfScore'] > 0].sort_values(by='rfScore', ascending=False)\n",
    "# rf_df.sort_values(by='rfFeature')\n",
    "# res.sort_values(by=['Lancent',\"Melanoma\"], ascending=False)"
   ]
  },
  {
   "cell_type": "markdown",
   "metadata": {},
   "source": [
    "## selected model "
   ]
  },
  {
   "cell_type": "code",
   "execution_count": null,
   "metadata": {},
   "outputs": [],
   "source": [
    "#  Saved MOdel \n",
    "import joblib\n",
    "new_model = joblib.load('Saving Models/RF 70% on both.joblib')\n",
    "new_model"
   ]
  },
  {
   "cell_type": "code",
   "execution_count": null,
   "metadata": {},
   "outputs": [
    {
     "name": "stdout",
     "output_type": "stream",
     "text": [
      "Train :  0.8333333333333334\n",
      "Lancent :  0.7283950617283951\n",
      "Melanoma :  0.7076923076923077\n"
     ]
    },
    {
     "name": "stderr",
     "output_type": "stream",
     "text": [
      "/home/sbl/.local/lib/python3.8/site-packages/sklearn/base.py:458: UserWarning: X has feature names, but RandomForestClassifier was fitted without feature names\n",
      "  warnings.warn(\n"
     ]
    }
   ],
   "source": [
    "model = new_model# RandomForestClassifier(**best_params, random_state=0)\n",
    "model.fit(X_train.values,y_train)\n",
    "print(\"Train : \" ,model.score(X_test,y_test))\n",
    "print(\"Lancent : \",model.score(lancent_test_standarized,lancent_y))\n",
    "print(\"Melanoma : \" ,model.score(melanoma_test_standarized,melanoma_y))"
   ]
  },
  {
   "cell_type": "code",
   "execution_count": null,
   "metadata": {},
   "outputs": [],
   "source": []
  }
 ],
 "metadata": {
  "language_info": {
   "name": "python"
  }
 },
 "nbformat": 4,
 "nbformat_minor": 2
}
