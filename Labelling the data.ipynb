{
 "cells": [
  {
   "cell_type": "code",
   "execution_count": 14,
   "metadata": {},
   "outputs": [],
   "source": [
    "import numpy as np\n",
    "import pandas as pd\n",
    "from sklearn.decomposition import PCA\n",
    "from sklearn.ensemble import RandomForestClassifier\n",
    "from sklearn.model_selection import train_test_split\n",
    "from sklearn.preprocessing import StandardScaler\n",
    "from sklearn.model_selection import StratifiedKFold\n",
    "import scipy.stats as stats\n",
    "from sklearn.linear_model import ElasticNetCV"
   ]
  },
  {
   "cell_type": "code",
   "execution_count": 90,
   "metadata": {},
   "outputs": [],
   "source": [
    "clinical = pd.read_excel('../../../Downloads/Commun_clinical data.xlsx')\n",
    "clinical = clinical[['Sample ID','Clinical benefit']]\n",
    "clinical['Clinical benefit'] = clinical['Clinical benefit'].str.replace('DCB','1').replace('NDB','0').replace('na','0')\n",
    "\n",
    "phenodata = pd.read_csv('../GSE119144_phenodata.csv')\n",
    "phenodata  = phenodata[['source_name_ch1','geo_accession']]\n",
    "phenodata['Sample ID'] = phenodata['source_name_ch1'].str.replace('NSCLC ','')\n",
    "phenodata = phenodata[['Sample ID','geo_accession']]\n",
    "clinical = pd.merge(phenodata,clinical)\n",
    "phenodata['Sample ID'] = phenodata['Sample ID'].astype(str)\n",
    "clinical['Sample ID'] = clinical['Sample ID'].astype(str)\n",
    "methyl_data = pd.read_csv('../GSE119144.csv', low_memory=True)\n",
    "methyl_data.reset_index(drop=True, inplace=True)\n",
    "GSE_file = methyl_data.T\n",
    "\n",
    "GSE_file.reset_index(inplace=True)\n",
    "GSE_file.columns = GSE_file.iloc[0]\n",
    "GSE_file = GSE_file.iloc[1:]\n",
    "GSE_file = GSE_file.rename(columns={'Sample ID':'geo_accession'})\n",
    "final_GSE = pd.merge(GSE_file,clinical)\n",
    "clinical = clinical[['geo_accession','Clinical benefit']]\n",
    "final_GSE.to_csv('Training LUNG Cancer Dataset.csv', index=False)\n"
   ]
  },
  {
   "cell_type": "code",
   "execution_count": 4,
   "metadata": {},
   "outputs": [],
   "source": [
    "# melanoma_methylation = pd.read_csv('../../../Downloads/melanoma_methylation.csv', low_memory=True)\n",
    "melanoma_meta = pd.read_csv('../../../Downloads/melanoma_meta.csv', encoding='latin1') \n",
    "# melanoma_meta['Labels'] = melanoma_meta['ICI response (DC disease control, PD progressive disease, UNK unknown)'].str.replace('DC',\"1\").str.replace('PD',\"0\").str.replace('UNK','0')\n",
    "# melanoma_meta = melanoma_meta.rename(columns={'ÿPatient ID':'Sample ID'})\n",
    "# melanoma_methylation = melanoma_methylation.T\n",
    "# melanoma_methylation.columns = melanoma_methylation.iloc[0]\n",
    "# melanoma_methylation = melanoma_methylation.iloc[1:]\n",
    "# melanoma_methylation.rename(columns={'Unnamed: 0':'Sample ID'})\n",
    "# melanoma_methylation.reset_index(inplace=True)\n",
    "# melanoma_methylation = melanoma_methylation.rename(columns={'index':'Sample ID'})\n",
    "# final_melanoma = pd.merge(melanoma_meta[['Sample ID',\"Labels\"]], melanoma_methylation)\n",
    "# final_melanoma.to_csv('Melanoma Validation Dataset.csv', index=False)\n",
    "# final_melanoma"
   ]
  },
  {
   "cell_type": "code",
   "execution_count": null,
   "metadata": {},
   "outputs": [],
   "source": [
    "NCLSC = pd.read_csv('../../../Downloads/NSCLC_methylation.csv')\n",
    "NCSLC_meta = pd.read_csv('../../NCSLC/NSCLC_meta.csv')\n",
    "NCSLC_meta['Labels'] = NCSLC_meta['Responsiveness'].str.replace('Non-responder','0').replace('Responder','1').astype(int)\n",
    "NCSLC_meta = NCSLC_meta[['geo_accession','Labels']]\n",
    "NCSLC = NCLSC.T\n",
    "NCSLC.columns = NCSLC.iloc[0]\n",
    "NCSLC = NCSLC.iloc[1:,]\n",
    "NCSLC = NCSLC.reset_index()\n",
    "NCSLC.rename(columns={'index':'geo_accession'}, inplace=True)\n",
    "# final_NCSLC = pd.merge(NCSLC_meta, NCSLC, on='geo_accession')\n",
    "final_NCSLC.to_csv('NCLSC Validation Dataset.csv', index=False)\n",
    "final_NCSLC"
   ]
  },
  {
   "cell_type": "code",
   "execution_count": 12,
   "metadata": {},
   "outputs": [
    {
     "data": {
      "text/plain": [
       "['B_10', 'WUE_4', 'WUE_5', 'WUE_9']"
      ]
     },
     "execution_count": 12,
     "metadata": {},
     "output_type": "execute_result"
    }
   ],
   "source": [
    "melanoma_meta[melanoma_meta['ICI response (DC disease control, PD progressive disease, UNK unknown)'].str.contains('UNK', case=False)]['ÿPatient ID'].tolist()"
   ]
  },
  {
   "cell_type": "code",
   "execution_count": null,
   "metadata": {},
   "outputs": [],
   "source": [
    "lancent_meta = pd.read_csv('../../../Downloads/Lancet_clinical.csv', sep='\\t')\n",
    "lancent_meta.head()\n",
    "lancent_methyl = pd.read_csv('../../../Downloads/Lancet_methylation.txt', low_memory=True, sep='\\t')\n",
    "lancent_methyl = lancent_methyl.T\n",
    "lancent_methyl.columns = lancent_methyl.iloc[0]\n",
    "lancent_methyl = lancent_methyl.iloc[1:]\n",
    "lancent_meta['Labels'] = lancent_meta['STATUS'].str.replace('Non Responder','0').str.replace('Responder','1').replace('Non responder','0').astype(int)\n",
    "lancent_meta_labels = lancent_meta[['PUBLIC_CODE','Labels']]\n",
    "lancent_meta_labels = lancent_meta_labels.rename(columns={'PUBLIC_CODE':'sample'})\n",
    "lancent_methyl['sample'] = lancent_methyl.index.to_list()\n",
    "Lancent_dataset_complete = pd.merge(lancent_meta_labels,lancent_methyl, on='sample')\n",
    "Lancent_dataset_complete.to_csv('Lancent_dataset_complete.txt', index=False)"
   ]
  }
 ],
 "metadata": {
  "kernelspec": {
   "display_name": "Python 3",
   "language": "python",
   "name": "python3"
  },
  "language_info": {
   "codemirror_mode": {
    "name": "ipython",
    "version": 3
   },
   "file_extension": ".py",
   "mimetype": "text/x-python",
   "name": "python",
   "nbconvert_exporter": "python",
   "pygments_lexer": "ipython3",
   "version": "3.8.10"
  }
 },
 "nbformat": 4,
 "nbformat_minor": 2
}
